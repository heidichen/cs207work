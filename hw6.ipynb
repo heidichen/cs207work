{
 "cells": [
  {
   "cell_type": "markdown",
   "metadata": {
    "collapsed": true
   },
   "source": [
    "## Q1.\n",
    "\n",
    "Add a __setitem__ to the python linked list implementation from the lecture (this past wednesday)."
   ]
  },
  {
   "cell_type": "code",
   "execution_count": 15,
   "metadata": {
    "collapsed": false
   },
   "outputs": [],
   "source": [
    "#your code here\n",
    "from doctest import run_docstring_examples as dtest\n",
    "import numbers\n",
    "import reprlib\n",
    "class LL:\n",
    "    \"\"\"\n",
    "    >>> A = LL()  \n",
    "    >>> A[0]\n",
    "    Traceback (most recent call last):\n",
    "        ...\n",
    "    IndexError: trying to index an empty LL\n",
    "    >>> A.insert_front(1)\n",
    "    >>> A[0]\n",
    "    1\n",
    "    >>> A.insert_back(2)\n",
    "    >>> A[1]\n",
    "    2\n",
    "    >>> A\n",
    "    LL([1,...])\n",
    "    >>> myll = LL.from_components([1,2])\n",
    "    >>> myll[1]\n",
    "    1\n",
    "    >>> len(myll)\n",
    "    2\n",
    "    >>> myll[2]\n",
    "    Traceback (most recent call last):\n",
    "        ...\n",
    "    IndexError: LL index out of range\n",
    "    >>> myll[0:1]\n",
    "    Traceback (most recent call last):\n",
    "        ...\n",
    "    TypeError: LL indices must be integers\n",
    "    \"\"\"\n",
    "    @classmethod\n",
    "    def from_components(cls, components):\n",
    "        inst = cls(components[0])\n",
    "        for c in components[1:]:\n",
    "            inst.insert_front(c)\n",
    "        return inst\n",
    "        \n",
    "    def __init__(self, head=None):\n",
    "        if head is None:\n",
    "            self._headNode = None\n",
    "        else:\n",
    "            self._headNode = [head, None]\n",
    "            \n",
    "    def insert_front(self, element):\n",
    "        new_node = [element, None]\n",
    "        new_node[1] = self._headNode\n",
    "        self._headNode = new_node\n",
    "        \n",
    "    def insert_back(self, element):\n",
    "        new_node = [element, None]\n",
    "        curr_ptr = self._headNode\n",
    "        while curr_ptr[1] is not None:\n",
    "            curr_ptr = curr_ptr[1]\n",
    "        curr_ptr[1]= new_node\n",
    "        \n",
    "    def __repr__(self):\n",
    "        class_name = type(self).__name__\n",
    "        if len(self)==0:\n",
    "            components=\"\"\n",
    "        else:\n",
    "            components = reprlib.repr(self[0])\n",
    "        return '{}([{},...])'.format(class_name,components)\n",
    "\n",
    "\n",
    "    def __len__(self):\n",
    "        curr_ptr = self._headNode\n",
    "        count = 0\n",
    "        if curr_ptr==None:\n",
    "            return 0\n",
    "        while 1:\n",
    "            count = count + 1\n",
    "            if curr_ptr[1] is None:\n",
    "                break\n",
    "            curr_ptr = curr_ptr[1]\n",
    "        return count    \n",
    "    \n",
    "    def __getitem__(self, index):\n",
    "        class_name = type(self).__name__\n",
    "        if isinstance(index, numbers.Integral): \n",
    "            curr_ptr = self._headNode\n",
    "            if curr_ptr==None:\n",
    "                msg = 'trying to index an empty {class_name}' \n",
    "                raise IndexError(msg.format(class_name=class_name))\n",
    "            next_ptr = self._headNode[1]\n",
    "            count = 0\n",
    "            while 1:\n",
    "                if index == count:\n",
    "                    return curr_ptr[0]\n",
    "                if curr_ptr[1] is None:\n",
    "                    msg = '{class_name} index out of range' \n",
    "                    raise IndexError(msg.format(class_name=class_name))       \n",
    "                count += 1\n",
    "                curr_ptr = curr_ptr[1]\n",
    "        else:\n",
    "            msg = '{class_name} indices must be integers' \n",
    "            raise TypeError(msg.format(class_name=class_name))\n",
    "            \n",
    "    def __setitem__(self, index, value):\n",
    "        class_name = type(self).__name__\n",
    "        if isinstance(index, numbers.Integral): \n",
    "            curr_ptr = self._headNode\n",
    "            if curr_ptr==None:\n",
    "                msg = 'trying to index an empty {class_name}' \n",
    "                raise IndexError(msg.format(class_name=class_name))\n",
    "            next_ptr = self._headNode[1]\n",
    "            count = 0\n",
    "            while 1:\n",
    "                if index == count:\n",
    "                    curr_ptr[0] = value\n",
    "                    break\n",
    "                if curr_ptr[1] is None:\n",
    "                    msg = '{class_name} index out of range' \n",
    "                    raise IndexError(msg.format(class_name=class_name))       \n",
    "                count += 1\n",
    "                curr_ptr = curr_ptr[1]\n",
    "        else:\n",
    "            msg = '{class_name} indices must be integers' \n",
    "            raise TypeError(msg.format(class_name=class_name))\n"
   ]
  },
  {
   "cell_type": "code",
   "execution_count": 25,
   "metadata": {
    "collapsed": false
   },
   "outputs": [
    {
     "name": "stdout",
     "output_type": "stream",
     "text": [
      "32\n",
      "10\n"
     ]
    }
   ],
   "source": [
    "myll=LL.from_components([1,2,32,-4,5])\n",
    "print (myll[2])\n",
    "myll[2]=10\n",
    "print (myll[2])"
   ]
  },
  {
   "cell_type": "markdown",
   "metadata": {},
   "source": [
    "## Q2.\n",
    "\n",
    "An online mean and standard deviation algorithm.\n",
    "\n",
    "Below is a function to generate a potentially infinite stream of 1-D data."
   ]
  },
  {
   "cell_type": "code",
   "execution_count": 37,
   "metadata": {
    "collapsed": false
   },
   "outputs": [],
   "source": [
    "from random import normalvariate, random\n",
    "from itertools import count\n",
    "def make_data(m, stop=None):\n",
    "    for _ in count():\n",
    "        if stop and _ > stop:\n",
    "            break\n",
    "        yield 1.0e09 + normalvariate(0, m*random() )\n",
    "        "
   ]
  },
  {
   "cell_type": "markdown",
   "metadata": {},
   "source": [
    "Here is an implementation of an online mean algorithm..see http://www.johndcook.com/blog/standard_deviation/ and the link to http://www.johndcook.com/blog/2008/09/26/comparing-three-methods-of-computing-standard-deviation/ in-between. (Convince yourselves of the formulas...)"
   ]
  },
  {
   "cell_type": "code",
   "execution_count": 38,
   "metadata": {
    "collapsed": true
   },
   "outputs": [],
   "source": [
    "def online_mean(iterator):\n",
    "    n = 0\n",
    "    mu = 0\n",
    "    for value in iterator:\n",
    "        n += 1\n",
    "        delta = value - mu\n",
    "        mu = mu + delta/n\n",
    "        yield mu"
   ]
  },
  {
   "cell_type": "markdown",
   "metadata": {},
   "source": [
    "We use out generator functions to implement iterators:"
   ]
  },
  {
   "cell_type": "code",
   "execution_count": 39,
   "metadata": {
    "collapsed": false
   },
   "outputs": [
    {
     "data": {
      "text/plain": [
       "[999999996.4935756,\n",
       " 999999997.2746917,\n",
       " 1000000001.1747497,\n",
       " 999999998.8407289,\n",
       " 1000000000.1575447,\n",
       " 1000000003.1453139,\n",
       " 1000000002.883442,\n",
       " 1000000004.5168155,\n",
       " 999999998.875304,\n",
       " 1000000000.5629257,\n",
       " 999999995.5642809]"
      ]
     },
     "execution_count": 39,
     "metadata": {},
     "output_type": "execute_result"
    }
   ],
   "source": [
    "g = make_data(5, 10)\n",
    "list(g)"
   ]
  },
  {
   "cell_type": "code",
   "execution_count": 29,
   "metadata": {
    "collapsed": false
   },
   "outputs": [
    {
     "name": "stdout",
     "output_type": "stream",
     "text": [
      "<class 'generator'>\n"
     ]
    },
    {
     "data": {
      "text/plain": [
       "[1000000001.1080354,\n",
       " 999999999.7241201,\n",
       " 1000000000.5072588,\n",
       " 1000000000.229241,\n",
       " 999999999.6772763,\n",
       " 999999999.4448763,\n",
       " 999999999.418578,\n",
       " 999999999.3435737,\n",
       " 999999999.340538,\n",
       " 999999999.4086779,\n",
       " 999999999.2787045,\n",
       " 999999999.3553444,\n",
       " 999999999.2899898,\n",
       " 999999999.5211818,\n",
       " 999999999.548144,\n",
       " 999999999.5749699,\n",
       " 999999999.731217,\n",
       " 999999999.4959916,\n",
       " 999999999.5094731,\n",
       " 999999999.5030963,\n",
       " 999999999.6219274,\n",
       " 999999999.5052744,\n",
       " 999999999.4078127,\n",
       " 999999999.3917202,\n",
       " 999999999.443258,\n",
       " 999999999.336206,\n",
       " 999999999.260857,\n",
       " 999999999.4304901,\n",
       " 999999999.3169789,\n",
       " 999999999.4176497,\n",
       " 999999999.5128808,\n",
       " 999999999.6128393,\n",
       " 999999999.6171788,\n",
       " 999999999.6281813,\n",
       " 999999999.535874,\n",
       " 999999999.5333283,\n",
       " 999999999.6208317,\n",
       " 999999999.6681802,\n",
       " 999999999.6769251,\n",
       " 999999999.8240343,\n",
       " 999999999.7757261,\n",
       " 999999999.5719115,\n",
       " 999999999.6623368,\n",
       " 999999999.6681932,\n",
       " 999999999.6542723,\n",
       " 999999999.6598951,\n",
       " 999999999.6853969,\n",
       " 999999999.8155328,\n",
       " 999999999.9187213,\n",
       " 1000000000.0027938,\n",
       " 999999999.9397395,\n",
       " 1000000000.0365908,\n",
       " 1000000000.0684043,\n",
       " 1000000000.0331397,\n",
       " 1000000000.0377815,\n",
       " 1000000000.0777612,\n",
       " 1000000000.1435746,\n",
       " 1000000000.1973414,\n",
       " 1000000000.1685424,\n",
       " 1000000000.160927,\n",
       " 1000000000.163767,\n",
       " 1000000000.1760992,\n",
       " 1000000000.1488242,\n",
       " 1000000000.1616288,\n",
       " 1000000000.1729013,\n",
       " 1000000000.1435845,\n",
       " 1000000000.1355163,\n",
       " 1000000000.1378428,\n",
       " 1000000000.1376666,\n",
       " 1000000000.1562831,\n",
       " 1000000000.140345,\n",
       " 1000000000.1407588,\n",
       " 1000000000.0842907,\n",
       " 1000000000.0548042,\n",
       " 1000000000.0241435,\n",
       " 1000000000.0545098,\n",
       " 1000000000.0541046,\n",
       " 1000000000.0537045,\n",
       " 1000000000.0160593,\n",
       " 999999999.9772515,\n",
       " 999999999.9369408,\n",
       " 999999999.9233211,\n",
       " 999999999.9283441,\n",
       " 999999999.9270654,\n",
       " 999999999.867141,\n",
       " 999999999.8487073,\n",
       " 999999999.8716451,\n",
       " 999999999.8652433,\n",
       " 999999999.8261861,\n",
       " 999999999.8431189,\n",
       " 999999999.8663379,\n",
       " 999999999.912276,\n",
       " 999999999.9128993,\n",
       " 999999999.8908446,\n",
       " 999999999.8786737,\n",
       " 999999999.798195,\n",
       " 999999999.812182,\n",
       " 999999999.8023652,\n",
       " 999999999.8076917,\n",
       " 999999999.829217,\n",
       " 999999999.8512692]"
      ]
     },
     "execution_count": 29,
     "metadata": {},
     "output_type": "execute_result"
    }
   ],
   "source": [
    "g = online_mean(make_data(5, 100))\n",
    "print(type(g))\n",
    "list(g)"
   ]
  },
  {
   "cell_type": "markdown",
   "metadata": {},
   "source": [
    "### 2.1\n",
    "\n",
    "Implement the standard deviation algorithm as a generator function as\n",
    "\n",
    "```python\n",
    "def online_mean_dev(iterator):\n",
    "    BLA BLA\n",
    "    if n > 1:\n",
    "        stddev = math.sqrt(dev_accum/(n-1))\n",
    "        yield (n, value, mu, stddev)\n",
    "```"
   ]
  },
  {
   "cell_type": "code",
   "execution_count": 46,
   "metadata": {
    "collapsed": false
   },
   "outputs": [],
   "source": [
    "import math\n",
    "# your code here\n",
    "def online_mean_dev(iterator):\n",
    "    n = 0\n",
    "    dev_accum = 0\n",
    "    mu = 0\n",
    "    for value in iterator:\n",
    "        n += 1\n",
    "        delta = value - mu\n",
    "        mu = mu + delta/n\n",
    "        dev_accum += (value - mu)**2\n",
    "        if n == 1:\n",
    "            yield (n, value, mu, 0)\n",
    "        if n > 1:\n",
    "            stddev = math.sqrt(dev_accum/(n-1))\n",
    "            yield (n, value, mu, stddev)"
   ]
  },
  {
   "cell_type": "markdown",
   "metadata": {},
   "source": [
    "Here we make 100000 element data, and run this iterator on it (imagine running this on a time-series being slowly read from disk"
   ]
  },
  {
   "cell_type": "code",
   "execution_count": 49,
   "metadata": {
    "collapsed": true
   },
   "outputs": [],
   "source": [
    "data_with_stats = online_mean_dev(make_data(5, 100000))"
   ]
  },
  {
   "cell_type": "markdown",
   "metadata": {},
   "source": [
    "## Q3.\n",
    "\n",
    "Let's do Anomaly detection. Write a routine `is_ok`:\n",
    "\n",
    "```python\n",
    "def is_ok(level, t)\n",
    "```\n",
    "\n",
    "which takes a tuple like the one yielded by your code above and returns True if the value is inbetween `level`-$\\sigma$ of the mean."
   ]
  },
  {
   "cell_type": "code",
   "execution_count": 53,
   "metadata": {
    "collapsed": true
   },
   "outputs": [],
   "source": [
    "#your code here\n",
    "def is_ok(level, t):\n",
    "    n, value, mu, stddev = t[0], t[1], t[2], t[3]\n",
    "    if n <= 1:\n",
    "        return True\n",
    "    return abs(value - mu)/stddev <= level"
   ]
  },
  {
   "cell_type": "markdown",
   "metadata": {},
   "source": [
    "We use this function to create a predicate passed through to `itertools.filterfalse` which is then used to obtain an iterator on the anomalies."
   ]
  },
  {
   "cell_type": "code",
   "execution_count": 54,
   "metadata": {
    "collapsed": true
   },
   "outputs": [],
   "source": [
    "from itertools import filterfalse\n",
    "pred = lambda t: is_ok(5, t)\n",
    "anomalies = filterfalse(pred, data_with_stats)"
   ]
  },
  {
   "cell_type": "markdown",
   "metadata": {},
   "source": [
    "We materialize the anomalies..."
   ]
  },
  {
   "cell_type": "code",
   "execution_count": 55,
   "metadata": {
    "collapsed": false
   },
   "outputs": [
    {
     "data": {
      "text/plain": [
       "[(8203, 1000000017.2006392, 999999999.9617442, 2.9493488218391195),\n",
       " (10862, 1000000015.9539286, 999999999.9901989, 2.9812104472724408),\n",
       " (18462, 999999984.3153274, 999999999.9561596, 2.926465909840641),\n",
       " (18875, 999999984.3957771, 999999999.9583086, 2.9262171453089385),\n",
       " (19218, 999999982.873871, 999999999.9592649, 2.9299672472254468),\n",
       " (21234, 1000000014.6306741, 999999999.9624422, 2.9289910799562033),\n",
       " (22664, 1000000016.1855776, 999999999.9682385, 2.9238275298492273),\n",
       " (26579, 999999985.3821741, 999999999.9808254, 2.912543471968105),\n",
       " (28290, 999999983.938598, 999999999.9813013, 2.915740073946059),\n",
       " (31372, 1000000017.0078973, 999999999.9795303, 2.9139373279477385),\n",
       " (38249, 999999981.9336877, 999999999.9757538, 2.9089184143725597),\n",
       " (38648, 1000000016.2673028, 999999999.9766691, 2.9093949088061075),\n",
       " (43857, 999999985.1024851, 999999999.9808201, 2.8999971181612545),\n",
       " (56728, 999999984.5474545, 999999999.9843633, 2.8970293231959805),\n",
       " (57650, 999999980.8416774, 999999999.9830481, 2.8953491621239094),\n",
       " (58075, 1000000016.2250919, 999999999.9860392, 2.89729144138116),\n",
       " (66916, 1000000014.8558223, 999999999.9854578, 2.89529021701014),\n",
       " (72270, 1000000014.855951, 999999999.9913816, 2.893658116906832),\n",
       " (74646, 999999983.9508008, 999999999.993452, 2.892705183877475),\n",
       " (78874, 999999985.5493326, 999999999.9936341, 2.887566230396589),\n",
       " (86829, 999999983.0770789, 999999999.9978216, 2.8830376536392923),\n",
       " (90407, 999999984.080693, 999999999.9967933, 2.882147978106829),\n",
       " (91650, 1000000017.420446, 999999999.9974786, 2.8824188526312757),\n",
       " (92040, 1000000016.9485713, 999999999.9975625, 2.88159818645157),\n",
       " (95076, 1000000014.6938001, 999999999.9992113, 2.8813304975514633),\n",
       " (95578, 999999984.6821815, 999999999.9986093, 2.881080505519656)]"
      ]
     },
     "execution_count": 55,
     "metadata": {},
     "output_type": "execute_result"
    }
   ],
   "source": [
    "list(anomalies)#materialize"
   ]
  },
  {
   "cell_type": "markdown",
   "metadata": {},
   "source": [
    "## To think of, but not hand in\n",
    "\n",
    "What kinds of anomalies will this algorithm pick up? What kinds would a shorter \"window\" of anomaly detection, like 100 points around the time in question pick? How might you create an algorithm which does window based averaging? (hint: the window size is small compared to the time series size). \n",
    "\n",
    "Finally think a bit of how you might implement all of this in a production environment..remember that data streaming in might get backed up when you handle an anomaly.\n",
    "\n",
    "(Some inspiration might accrue if you look at the docs for `collections.deque`)."
   ]
  }
 ],
 "metadata": {
  "anaconda-cloud": {},
  "kernelspec": {
   "display_name": "Python [py35]",
   "language": "python",
   "name": "Python [py35]"
  },
  "language_info": {
   "codemirror_mode": {
    "name": "ipython",
    "version": 3
   },
   "file_extension": ".py",
   "mimetype": "text/x-python",
   "name": "python",
   "nbconvert_exporter": "python",
   "pygments_lexer": "ipython3",
   "version": "3.5.2"
  }
 },
 "nbformat": 4,
 "nbformat_minor": 0
}
