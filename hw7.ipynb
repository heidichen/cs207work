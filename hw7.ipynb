{
 "cells": [
  {
   "cell_type": "markdown",
   "metadata": {},
   "source": [
    "## Q1. Median Maintenance using a Heap\n",
    "\n",
    "\n",
    "### Part 1\n",
    "\n",
    "Implement a \"dominant heap\" class `BinaryHeap`, which can handle both the min heap and the max heap cases, by having the constructor explicitly pass the \"comparison\" operator in. Replace min and del_min by dominant and del_dominant methods. Change the classmethod to also take in the operator."
   ]
  },
  {
   "cell_type": "code",
   "execution_count": 2,
   "metadata": {
    "collapsed": false
   },
   "outputs": [],
   "source": [
    "from operator import gt, lt"
   ]
  },
  {
   "cell_type": "code",
   "execution_count": 69,
   "metadata": {
    "collapsed": false
   },
   "outputs": [],
   "source": [
    "#your code here\n",
    "from operator import gt, lt\n",
    "class BinaryHeap:\n",
    "    def __init__(self, comparison):\n",
    "        self.storage=[None]\n",
    "        self.upto=0\n",
    "        self.comparison = comparison\n",
    "        \n",
    "    @classmethod\n",
    "    def heapify_slow(cls, it, comparison):\n",
    "        inst = cls(comparison)\n",
    "        for i in it:\n",
    "            inst.insert(i)\n",
    "        return inst\n",
    "            \n",
    "    def insert(self, value):\n",
    "        self.storage.append(value)\n",
    "        self.upto += 1\n",
    "        self.sift_up(self.upto)\n",
    "\n",
    "    def sift_up(self, i):\n",
    "        parent = i // 2\n",
    "        if parent > 0 and self.comparison(self.storage[i], self.storage[parent]):\n",
    "            self.storage[i], self.storage[parent] = self.storage[parent], self.storage[i]\n",
    "            self.sift_up(parent)\n",
    "     \n",
    "    def _min_child(self, i):\n",
    "        if 2*i + 1 > self.upto:\n",
    "            return 2*i\n",
    "        else:\n",
    "            l = (self.storage[2*i], self.storage[2*1+1])\n",
    "            if self.comparison == lt:\n",
    "                return 2*i + l.index(min(l))\n",
    "            else:\n",
    "                return 2*i + l.index(max(l))\n",
    "    def sift_down(self, i):\n",
    "        if 2*i <= self.upto:\n",
    "            child = self._min_child(i)\n",
    "            if self.comparison(self.storage[child], self.storage[i]):\n",
    "                self.storage[child], self.storage[i] = self.storage[i], self.storage[child]\n",
    "                self.sift_down(child)\n",
    "        \n",
    "    def dominant(self):\n",
    "        return self.storage[1]\n",
    "    \n",
    "    def del_dominant(self):\n",
    "        dominant_val = self.storage[1]\n",
    "        self.storage[1], self.storage[self.upto] = self.storage[self.upto], self.storage[1]\n",
    "        self.storage.pop()\n",
    "        self.upto -= 1\n",
    "        self.sift_down(1)\n",
    "        return dominant_val"
   ]
  },
  {
   "cell_type": "code",
   "execution_count": 70,
   "metadata": {
    "collapsed": true
   },
   "outputs": [],
   "source": [
    "data = [1,8,5,9,23,2,45,6,7,99,-5]"
   ]
  },
  {
   "cell_type": "code",
   "execution_count": 71,
   "metadata": {
    "collapsed": false
   },
   "outputs": [
    {
     "name": "stdout",
     "output_type": "stream",
     "text": [
      "[None, -5, 1, 2, 7, 6, 5, 45, 9, 8, 99, 23]\n"
     ]
    },
    {
     "data": {
      "text/plain": [
       "-5"
      ]
     },
     "execution_count": 71,
     "metadata": {},
     "output_type": "execute_result"
    }
   ],
   "source": [
    "from operator import gt, lt\n",
    "bh = BinaryHeap.heapify_slow(data, lt)\n",
    "print(bh.storage)\n",
    "bh.dominant()"
   ]
  },
  {
   "cell_type": "code",
   "execution_count": 72,
   "metadata": {
    "collapsed": false
   },
   "outputs": [
    {
     "name": "stdout",
     "output_type": "stream",
     "text": [
      "[None, 99, 45, 23, 7, 9, 2, 5, 1, 6, 8, -5]\n"
     ]
    },
    {
     "data": {
      "text/plain": [
       "99"
      ]
     },
     "execution_count": 72,
     "metadata": {},
     "output_type": "execute_result"
    }
   ],
   "source": [
    "bh = BinaryHeap.heapify_slow(data, gt)\n",
    "print(bh.storage)\n",
    "bh.dominant()"
   ]
  },
  {
   "cell_type": "markdown",
   "metadata": {},
   "source": [
    "### Part 2\n",
    "\n",
    "Median maintenance is a very cool algorithm to find an online median.\n",
    "We create two arrays to test our implementation, using np.median to test our answer..."
   ]
  },
  {
   "cell_type": "code",
   "execution_count": 92,
   "metadata": {
    "collapsed": false
   },
   "outputs": [
    {
     "name": "stdout",
     "output_type": "stream",
     "text": [
      "150 526.5\n",
      "151 530.0\n"
     ]
    }
   ],
   "source": [
    "import random\n",
    "import numpy as np\n",
    "l = [random.randint(1,1000) for _ in range(150)]\n",
    "print(len(l), np.median(l))\n",
    "l2 = l + [random.randint(1,1000)]\n",
    "print(len(l2), np.median(l2))"
   ]
  },
  {
   "cell_type": "markdown",
   "metadata": {},
   "source": [
    "You will implement def online_median(iterator) which is a generator yielding successive values of your online median.\n",
    "\n",
    "The algorithm is as follows:\n",
    "\n",
    "We'll use 2 heaps, a max heap for the lower half of the data, and a min-heap for the upper half. We take the first 2values in our data and assign the smaller value to the max heap, while the larger value goes to the min-heap. Then, as we \"insert\" subsequent values in one of the two heaps, the following holds: if we keep the number of elements in both heaps equal (for the even case) or at-most differing by one, the median is respectively the average of the two dominants or the dominant in the heap with one extra item.\n",
    "\n",
    "What then is our strategy for this balanced insertion? Quite simple really: if a new value is not as dominant as the dominant value, add it to that heap. If it is more dominant, add it to the other. If two items in a row get added to the same heap, the heaps will be out of balance by more than one. In this case, take the dominant element from the larger heap and simply add it to the smaller one."
   ]
  },
  {
   "cell_type": "code",
   "execution_count": 93,
   "metadata": {
    "collapsed": false
   },
   "outputs": [],
   "source": [
    "#your code here\n",
    "def online_median(iterator):\n",
    "    n = 0\n",
    "    for value in iterator:\n",
    "        n += 1\n",
    "        if n == 1:\n",
    "            minheap = BinaryHeap.heapify_slow([value], lt)\n",
    "            yield value\n",
    "        elif n == 2:\n",
    "            value1 = minheap.dominant()\n",
    "            if value < value1:\n",
    "                maxheap = BinaryHeap.heapify_slow([value], gt)\n",
    "            else:\n",
    "                maxheap = BinaryHeap.heapify_slow([value1], gt)\n",
    "                minheap = BinaryHeap.heapify_slow([value], lt)\n",
    "            yield (value + value1)/2.0          \n",
    "        else:\n",
    "            if value < maxheap.dominant():\n",
    "                maxheap.insert(value)\n",
    "            else:\n",
    "                minheap.insert(value)\n",
    "            \n",
    "            maxlen = maxheap.upto\n",
    "            minlen = minheap.upto\n",
    "            #print (maxheap.storage)\n",
    "            #print (minheap.storage)\n",
    "            if maxlen > minlen:\n",
    "                if maxlen - minlen > 1:\n",
    "                    minheap.insert(maxheap.dominant())\n",
    "                    maxheap.del_dominant()\n",
    "                    yield (maxheap.dominant() + minheap.dominant())/2.0\n",
    "                else:\n",
    "                    yield maxheap.dominant()\n",
    "            elif minheap.upto > maxheap.upto:\n",
    "                if minlen - maxlen > 1:\n",
    "                    maxheap.insert(minheap.dominant())\n",
    "                    minheap.del_dominant()\n",
    "                    yield (maxheap.dominant() + minheap.dominant())/2.0\n",
    "                else:\n",
    "                    yield minheap.dominant()\n",
    "            else:\n",
    "                yield (maxheap.dominant() + minheap.dominant())/2.0"
   ]
  },
  {
   "cell_type": "markdown",
   "metadata": {},
   "source": [
    "Do your answers match?\n"
   ]
  },
  {
   "cell_type": "code",
   "execution_count": 94,
   "metadata": {
    "collapsed": false
   },
   "outputs": [
    {
     "name": "stdout",
     "output_type": "stream",
     "text": [
      "526.5\n"
     ]
    },
    {
     "data": {
      "text/plain": [
       "[<matplotlib.lines.Line2D at 0x110105f98>]"
      ]
     },
     "execution_count": 94,
     "metadata": {},
     "output_type": "execute_result"
    },
    {
     "data": {
      "image/png": "[encoded data removed]",
      "text/plain": [
       "<matplotlib.figure.Figure at 0x10fd3c4e0>"
      ]
     },
     "metadata": {},
     "output_type": "display_data"
    }
   ],
   "source": [
    "%matplotlib inline\n",
    "import matplotlib.pyplot as plt\n",
    "medians = list(online_median(iter(l)))\n",
    "print(medians[-1])\n",
    "plt.plot(medians)"
   ]
  },
  {
   "cell_type": "code",
   "execution_count": 95,
   "metadata": {
    "collapsed": false
   },
   "outputs": [
    {
     "data": {
      "text/plain": [
       "530"
      ]
     },
     "execution_count": 95,
     "metadata": {},
     "output_type": "execute_result"
    }
   ],
   "source": [
    "list(online_median(iter(l2)))[-1]"
   ]
  },
  {
   "cell_type": "markdown",
   "metadata": {},
   "source": [
    "Lastly, lets repeat the analysis we did last time on the randomly generated data."
   ]
  },
  {
   "cell_type": "code",
   "execution_count": 96,
   "metadata": {
    "collapsed": true
   },
   "outputs": [],
   "source": [
    "from random import normalvariate, random\n",
    "from itertools import count\n",
    "def make_data(m, stop=None):\n",
    "    for _ in count():\n",
    "        if stop and _ > stop:\n",
    "            break\n",
    "        yield 1.0e09 + normalvariate(0, m*random() )"
   ]
  },
  {
   "cell_type": "code",
   "execution_count": 97,
   "metadata": {
    "collapsed": false
   },
   "outputs": [
    {
     "name": "stdout",
     "output_type": "stream",
     "text": [
      "<class 'generator'>\n"
     ]
    },
    {
     "data": {
      "text/plain": [
       "[999999999.9211143,\n",
       " 999999999.9405725,\n",
       " 999999999.9211143,\n",
       " 999999999.9405725,\n",
       " 999999999.9211143,\n",
       " 999999999.9405725,\n",
       " 999999999.9750468,\n",
       " 1000000000.009521,\n",
       " 999999999.9750468,\n",
       " 1000000000.009521]"
      ]
     },
     "execution_count": 97,
     "metadata": {},
     "output_type": "execute_result"
    }
   ],
   "source": [
    "g = online_median(make_data(5, 100))\n",
    "print(type(g))\n",
    "out = list(g)\n",
    "out[-10:]"
   ]
  },
  {
   "cell_type": "code",
   "execution_count": 98,
   "metadata": {
    "collapsed": false
   },
   "outputs": [
    {
     "data": {
      "text/plain": [
       "[<matplotlib.lines.Line2D at 0x1102063c8>]"
      ]
     },
     "execution_count": 98,
     "metadata": {},
     "output_type": "execute_result"
    },
    {
     "data": {
      "image/png": "[encoded data removed]",
      "text/plain": [
       "<matplotlib.figure.Figure at 0x11003ff60>"
      ]
     },
     "metadata": {},
     "output_type": "display_data"
    }
   ],
   "source": [
    "plt.plot(out)"
   ]
  },
  {
   "cell_type": "markdown",
   "metadata": {},
   "source": [
    "## Q2\n",
    "\n",
    "### Simulating a flight check-in counter\n",
    "\n",
    "It is your job to simulate a flight-checkin counter. There are m agents handling n passengers. The passengers arrive in line with in-between time given by an exponential distribution for INTER_ARRIVAL_TIME. Each passenger, once he or she gets to a counter, is processed in a time drawn from an exponential distribution with PROCESSING_TIME. \n",
    "\n",
    "Clearly, in the usual case of 3-4 agents and 200+ customers on a flight, the customer waits much longer. We have been hired by the airlines customer-relations group to see how many extra agents must we hire to reduce waiting times by how much.\n",
    "\n",
    "We start by representing each customer by a co-routine, which starts with the `inline` event. The state changes to the `atcounter` event, and then `ptime` seconds later, to the `leaves` event. Notice how this customer \"process\" is stopped at the yield, until the customer can be handled."
   ]
  },
  {
   "cell_type": "code",
   "execution_count": 99,
   "metadata": {
    "collapsed": true
   },
   "outputs": [],
   "source": [
    "import collections, random\n",
    "Event = collections.namedtuple('Event', 'time cid action agent')\n",
    "def customer_process(idee, start, ptime):\n",
    "    t, agent = yield Event(start, idee, \"inline\", None)\n",
    "    t, agent = yield Event(t, idee, \"atcounter\", agent)\n",
    "    yield Event(t+ptime, idee, \"leaves\", agent)\n",
    "\n",
    "\n",
    "            "
   ]
  },
  {
   "cell_type": "markdown",
   "metadata": {},
   "source": [
    "The following function simply implements the draw from the exponential distribution for a given customer:"
   ]
  },
  {
   "cell_type": "code",
   "execution_count": 100,
   "metadata": {
    "collapsed": true
   },
   "outputs": [],
   "source": [
    "def duration(arr_time, service_time):\n",
    "    return random.expovariate(1./arr_time), random.expovariate(1./service_time)\n"
   ]
  },
  {
   "cell_type": "markdown",
   "metadata": {},
   "source": [
    "Here is out main simulation class. you will be filling in parts of this class.\n",
    "\n",
    "The constructor sets up the simulation. Three queues are created, one for agents that become free, one priority queue for events so that they can be processed in the order recieved, and a backlog for queue for those customers waiting in line because no agent was available.\n",
    "\n",
    "We set up all the customers in the constructor, with two dictionaries, one to hold the co-routines, and one to hold time metadata which we shall use to figure the average waiting time.\n",
    "\n",
    "The `run` method is where all the action happens and is the one you will edit."
   ]
  },
  {
   "cell_type": "code",
   "execution_count": 105,
   "metadata": {
    "collapsed": true
   },
   "outputs": [],
   "source": [
    "free_agents = queue.Queue()\n",
    "free_agents.put((0, 0))"
   ]
  },
  {
   "cell_type": "code",
   "execution_count": 106,
   "metadata": {
    "collapsed": false
   },
   "outputs": [
    {
     "data": {
      "text/plain": [
       "<queue.Queue at 0x10f6707f0>"
      ]
     },
     "execution_count": 106,
     "metadata": {},
     "output_type": "execute_result"
    }
   ],
   "source": []
  },
  {
   "cell_type": "code",
   "execution_count": 190,
   "metadata": {
    "collapsed": false
   },
   "outputs": [],
   "source": [
    "import queue\n",
    "import logging\n",
    "class Simulator:\n",
    "    \n",
    "    def __init__(self, n_agents, n_customers, INTER_ARRIVAL_TIME =1., PROCESSING_TIME=3., DEBUG=False ): \n",
    "        #queues\n",
    "        self.free_agents = queue.Queue()\n",
    "        self.backlog = queue.Queue()\n",
    "        self.events=queue.PriorityQueue()\n",
    "        #save the arguments\n",
    "        self.n_customers = n_customers\n",
    "        self.n_agents = n_agents\n",
    "        self.intertime=INTER_ARRIVAL_TIME\n",
    "        self.proctime=PROCESSING_TIME\n",
    "        #dictionaries to hold customer process\n",
    "        self.customers={}\n",
    "        self.customer_meta={}\n",
    "        self.logger = logging.getLogger(\"sim\")\n",
    "        if DEBUG:\n",
    "            self.logger.setLevel(logging.DEBUG)\n",
    "        else:\n",
    "            self.logger.setLevel(logging.WARNING)\n",
    "        #on the free_agents queue, we put all the agents, and thee time\n",
    "        #they got free\n",
    "        for i in range(n_agents):\n",
    "            self.free_agents.put((i,0))\n",
    "        #this tracks when each customer came in.          \n",
    "        time_when_came=0.\n",
    "        for j in range(n_customers):\n",
    "            interarrtime, proctime = duration(self.intertime, self.proctime)\n",
    "            time_when_came += interarrtime\n",
    "            intuple = (j, time_when_came, proctime)\n",
    "            c = customer_process(*intuple)\n",
    "            self.logger.debug(\"Customer {}, arrived {}, will take {} at counter\".format(*intuple))\n",
    "            #add each customer to dictionaries\n",
    "            self.customers[j]=c\n",
    "            self.customer_meta[j]={'cid':j, 'start':time_when_came, 'finish':None}\n",
    "        self.logger.debug(\"========ending init==============\\n\\n\")\n",
    "        self.max_time_when_came=time_when_came  \n",
    "\n",
    "    def run(self, end_time):\n",
    "        #we prime each customer co-routine at the start\n",
    "        #and put that event in the events priority queue\n",
    "        #Since an event is a tuple, the ordering will be by start time\n",
    "        for cid, proc in sorted(self.customers.items()):\n",
    "            first_event = next(proc)#prime\n",
    "            self.events.put(first_event)#customer in line\n",
    "\n",
    "        #start at time 0\n",
    "        sim_time = 0\n",
    "        while sim_time < end_time:\n",
    "            #we are done if no events and no backlog\n",
    "            if self.events.empty() and self.backlog.empty(): \n",
    "                self.logger.debug('*** end of events and backlog***') \n",
    "                break\n",
    "            #if we have agents available and a backlog\n",
    "            #take customer from backlog queue. This is equivalent\n",
    "            #to taking customers from line\n",
    "            if not self.backlog.empty() and not self.free_agents.empty():\n",
    "                \"YOUR CODE HERE\"\n",
    "                current_event = self.backlog.get()\n",
    "                #agent = self.free_agents.get()\n",
    "                #current_event = cproc.send((sim_time, agent))\n",
    "                #the sim time from this branch will be false\n",
    "                #as we get the old time the person in the line showed up\n",
    "            else: #get current event in all other cases\n",
    "                #his ensures that leave events are processed thus\n",
    "                #freeing up agents               \n",
    "                \"YOUR CODE HERE\"\n",
    "                current_event = self.events.get()\n",
    "                \n",
    "            sim_time, cid, action, agent = current_event\n",
    "            #get the current customer process\n",
    "            cproc = self.customers[cid]\n",
    "                \n",
    "            if action=='leaves':\n",
    "                self.logger.debug(\">>>Customer {} leaves, agent {} free at {}\".format(cid, agent, sim_time))\n",
    "                #an agent gets free. Put the time they got free on q\n",
    "                #also update the metadata\n",
    "                self.free_agents.put((agent, sim_time))\n",
    "                self.customer_meta[cid]['finish']=sim_time\n",
    "            elif action=='atcounter':\n",
    "                self.logger.debug(\"Customer {} atcounter Agent {} at {}\".format(cid, agent, sim_time))\n",
    "                next_time = sim_time#processing time already in coroutine\n",
    "            elif action=='inline':#the agent is None to start\n",
    "                self.logger.debug('----------------------------------------------')\n",
    "                self.logger.debug(\"Customer {}, arrived in line @ {}.\".format(cid, sim_time))\n",
    "\n",
    "                if self.free_agents.empty():\n",
    "                    self.backlog.put(current_event)\n",
    "                    self.logger.debug(\"NO agents available, putting {} inline on backlog at {}\".format(cid, sim_time))\n",
    "                    \"YOUR CODE HERE\"\n",
    "                else:\n",
    "                    self.logger.debug(\"{} agents available to serve.\".format(self.free_agents.qsize()))\n",
    "                    \"YOUR CODE HERE\"#handle both situations\n",
    "                    #of getting from backlog or regular. The time in\n",
    "                    #next_time which you will send in message to co-routine\n",
    "                    #below are different\n",
    "                    agent = self.free_agents.get()\n",
    "                    if self.customer_meta[cid]['start'] < sim_time: ##from backlog\n",
    "                        cid, next_time = current_event.cid, sim_time\n",
    "                    else:\n",
    "                        self.backlog.put(current_event)\n",
    "                        current_event = self.backlog.get()\n",
    "                        cid, next_time = current_event.cid, sim_time\n",
    "                    self.logger.debug(\"Customer {} inline to be served by Agent {} at {}\".format(cid, agent, next_time))\n",
    "            #drive the co-routine by sending in time and agent, and getting\n",
    "            #next event out. The event is put into the priority queue.\n",
    "            try:\n",
    "                next_event = cproc.send((next_time, agent)) \n",
    "            except StopIteration:\n",
    "                del self.customers[cid] \n",
    "            else:\n",
    "                self.events.put(next_event)\n",
    "                \n",
    "    def compute_ptimes(self):\n",
    "        ptimes=[]\n",
    "        for j in range(self.n_customers):\n",
    "            #print(j,self.customer_meta[j] )\n",
    "            if self.customer_meta[j]['finish']!=None:\n",
    "                ptimes.append(self.customer_meta[j]['finish'] - self.customer_meta[j]['start'])\n",
    "        return ptimes"
   ]
  },
  {
   "cell_type": "code",
   "execution_count": 102,
   "metadata": {
    "collapsed": true
   },
   "outputs": [],
   "source": [
    "def sim_main(num_agents, num_customers, extratime=20., seed=None, debug=False):\n",
    "    if seed is not None:\n",
    "        random.seed(seed)\n",
    "    sim = Simulator(num_agents, num_customers, DEBUG=debug)\n",
    "    sim.run(sim.max_time_when_came+extratime)\n",
    "    return sim"
   ]
  },
  {
   "cell_type": "markdown",
   "metadata": {},
   "source": [
    "Start small to test this out."
   ]
  },
  {
   "cell_type": "code",
   "execution_count": 191,
   "metadata": {
    "collapsed": false,
    "scrolled": false
   },
   "outputs": [
    {
     "name": "stderr",
     "output_type": "stream",
     "text": [
      "Customer 0, arrived 0.4541854542752245, will take 5.1446340948461655 at counter\n",
      "Customer 0, arrived 0.4541854542752245, will take 5.1446340948461655 at counter\n",
      "Customer 0, arrived 0.4541854542752245, will take 5.1446340948461655 at counter\n",
      "Customer 0, arrived 0.4541854542752245, will take 5.1446340948461655 at counter\n",
      "Customer 0, arrived 0.4541854542752245, will take 5.1446340948461655 at counter\n",
      "Customer 0, arrived 0.4541854542752245, will take 5.1446340948461655 at counter\n",
      "Customer 0, arrived 0.4541854542752245, will take 5.1446340948461655 at counter\n",
      "Customer 1, arrived 1.2303600523397575, will take 7.11529992564557 at counter\n",
      "Customer 1, arrived 1.2303600523397575, will take 7.11529992564557 at counter\n",
      "Customer 1, arrived 1.2303600523397575, will take 7.11529992564557 at counter\n",
      "Customer 1, arrived 1.2303600523397575, will take 7.11529992564557 at counter\n",
      "Customer 1, arrived 1.2303600523397575, will take 7.11529992564557 at counter\n",
      "Customer 1, arrived 1.2303600523397575, will take 7.11529992564557 at counter\n",
      "Customer 1, arrived 1.2303600523397575, will take 7.11529992564557 at counter\n",
      "Customer 2, arrived 3.866237879131686, will take 10.623762578701134 at counter\n",
      "Customer 2, arrived 3.866237879131686, will take 10.623762578701134 at counter\n",
      "Customer 2, arrived 3.866237879131686, will take 10.623762578701134 at counter\n",
      "Customer 2, arrived 3.866237879131686, will take 10.623762578701134 at counter\n",
      "Customer 2, arrived 3.866237879131686, will take 10.623762578701134 at counter\n",
      "Customer 2, arrived 3.866237879131686, will take 10.623762578701134 at counter\n",
      "Customer 2, arrived 3.866237879131686, will take 10.623762578701134 at counter\n",
      "Customer 3, arrived 7.063762574553813, will take 1.6201151169292711 at counter\n",
      "Customer 3, arrived 7.063762574553813, will take 1.6201151169292711 at counter\n",
      "Customer 3, arrived 7.063762574553813, will take 1.6201151169292711 at counter\n",
      "Customer 3, arrived 7.063762574553813, will take 1.6201151169292711 at counter\n",
      "Customer 3, arrived 7.063762574553813, will take 1.6201151169292711 at counter\n",
      "Customer 3, arrived 7.063762574553813, will take 1.6201151169292711 at counter\n",
      "Customer 3, arrived 7.063762574553813, will take 1.6201151169292711 at counter\n",
      "Customer 4, arrived 8.327054360958495, will take 6.280812568572239 at counter\n",
      "Customer 4, arrived 8.327054360958495, will take 6.280812568572239 at counter\n",
      "Customer 4, arrived 8.327054360958495, will take 6.280812568572239 at counter\n",
      "Customer 4, arrived 8.327054360958495, will take 6.280812568572239 at counter\n",
      "Customer 4, arrived 8.327054360958495, will take 6.280812568572239 at counter\n",
      "Customer 4, arrived 8.327054360958495, will take 6.280812568572239 at counter\n",
      "Customer 4, arrived 8.327054360958495, will take 6.280812568572239 at counter\n",
      "Customer 5, arrived 13.66628017355228, will take 11.228206540395647 at counter\n",
      "Customer 5, arrived 13.66628017355228, will take 11.228206540395647 at counter\n",
      "Customer 5, arrived 13.66628017355228, will take 11.228206540395647 at counter\n",
      "Customer 5, arrived 13.66628017355228, will take 11.228206540395647 at counter\n",
      "Customer 5, arrived 13.66628017355228, will take 11.228206540395647 at counter\n",
      "Customer 5, arrived 13.66628017355228, will take 11.228206540395647 at counter\n",
      "Customer 5, arrived 13.66628017355228, will take 11.228206540395647 at counter\n",
      "========ending init==============\n",
      "\n",
      "\n",
      "========ending init==============\n",
      "\n",
      "\n",
      "========ending init==============\n",
      "\n",
      "\n",
      "========ending init==============\n",
      "\n",
      "\n",
      "========ending init==============\n",
      "\n",
      "\n",
      "========ending init==============\n",
      "\n",
      "\n",
      "========ending init==============\n",
      "\n",
      "\n",
      "----------------------------------------------\n",
      "----------------------------------------------\n",
      "----------------------------------------------\n",
      "----------------------------------------------\n",
      "----------------------------------------------\n",
      "----------------------------------------------\n",
      "----------------------------------------------\n",
      "Customer 0, arrived in line @ 0.4541854542752245.\n",
      "Customer 0, arrived in line @ 0.4541854542752245.\n",
      "Customer 0, arrived in line @ 0.4541854542752245.\n",
      "Customer 0, arrived in line @ 0.4541854542752245.\n",
      "Customer 0, arrived in line @ 0.4541854542752245.\n",
      "Customer 0, arrived in line @ 0.4541854542752245.\n",
      "Customer 0, arrived in line @ 0.4541854542752245.\n",
      "2 agents available to serve.\n",
      "2 agents available to serve.\n",
      "2 agents available to serve.\n",
      "2 agents available to serve.\n",
      "2 agents available to serve.\n",
      "2 agents available to serve.\n",
      "2 agents available to serve.\n",
      "Customer 0 inline to be served by Agent (0, 0) at 0.4541854542752245\n",
      "Customer 0 inline to be served by Agent (0, 0) at 0.4541854542752245\n",
      "Customer 0 inline to be served by Agent (0, 0) at 0.4541854542752245\n",
      "Customer 0 inline to be served by Agent (0, 0) at 0.4541854542752245\n",
      "Customer 0 inline to be served by Agent (0, 0) at 0.4541854542752245\n",
      "Customer 0 inline to be served by Agent (0, 0) at 0.4541854542752245\n",
      "Customer 0 inline to be served by Agent (0, 0) at 0.4541854542752245\n",
      "Customer 0 atcounter Agent (0, 0) at 0.4541854542752245\n",
      "Customer 0 atcounter Agent (0, 0) at 0.4541854542752245\n",
      "Customer 0 atcounter Agent (0, 0) at 0.4541854542752245\n",
      "Customer 0 atcounter Agent (0, 0) at 0.4541854542752245\n",
      "Customer 0 atcounter Agent (0, 0) at 0.4541854542752245\n",
      "Customer 0 atcounter Agent (0, 0) at 0.4541854542752245\n",
      "Customer 0 atcounter Agent (0, 0) at 0.4541854542752245\n",
      "----------------------------------------------\n",
      "----------------------------------------------\n",
      "----------------------------------------------\n",
      "----------------------------------------------\n",
      "----------------------------------------------\n",
      "----------------------------------------------\n",
      "----------------------------------------------\n",
      "Customer 1, arrived in line @ 1.2303600523397575.\n",
      "Customer 1, arrived in line @ 1.2303600523397575.\n",
      "Customer 1, arrived in line @ 1.2303600523397575.\n",
      "Customer 1, arrived in line @ 1.2303600523397575.\n",
      "Customer 1, arrived in line @ 1.2303600523397575.\n",
      "Customer 1, arrived in line @ 1.2303600523397575.\n",
      "Customer 1, arrived in line @ 1.2303600523397575.\n",
      "1 agents available to serve.\n",
      "1 agents available to serve.\n",
      "1 agents available to serve.\n",
      "1 agents available to serve.\n",
      "1 agents available to serve.\n",
      "1 agents available to serve.\n",
      "1 agents available to serve.\n",
      "Customer 1 inline to be served by Agent (1, 0) at 1.2303600523397575\n",
      "Customer 1 inline to be served by Agent (1, 0) at 1.2303600523397575\n",
      "Customer 1 inline to be served by Agent (1, 0) at 1.2303600523397575\n",
      "Customer 1 inline to be served by Agent (1, 0) at 1.2303600523397575\n",
      "Customer 1 inline to be served by Agent (1, 0) at 1.2303600523397575\n",
      "Customer 1 inline to be served by Agent (1, 0) at 1.2303600523397575\n",
      "Customer 1 inline to be served by Agent (1, 0) at 1.2303600523397575\n",
      "Customer 1 atcounter Agent (1, 0) at 1.2303600523397575\n",
      "Customer 1 atcounter Agent (1, 0) at 1.2303600523397575\n",
      "Customer 1 atcounter Agent (1, 0) at 1.2303600523397575\n",
      "Customer 1 atcounter Agent (1, 0) at 1.2303600523397575\n",
      "Customer 1 atcounter Agent (1, 0) at 1.2303600523397575\n",
      "Customer 1 atcounter Agent (1, 0) at 1.2303600523397575\n",
      "Customer 1 atcounter Agent (1, 0) at 1.2303600523397575\n",
      "----------------------------------------------\n",
      "----------------------------------------------\n",
      "----------------------------------------------\n",
      "----------------------------------------------\n",
      "----------------------------------------------\n",
      "----------------------------------------------\n",
      "----------------------------------------------\n",
      "Customer 2, arrived in line @ 3.866237879131686.\n",
      "Customer 2, arrived in line @ 3.866237879131686.\n",
      "Customer 2, arrived in line @ 3.866237879131686.\n",
      "Customer 2, arrived in line @ 3.866237879131686.\n",
      "Customer 2, arrived in line @ 3.866237879131686.\n",
      "Customer 2, arrived in line @ 3.866237879131686.\n",
      "Customer 2, arrived in line @ 3.866237879131686.\n",
      "NO agents available, putting 2 inline on backlog at 3.866237879131686\n",
      "NO agents available, putting 2 inline on backlog at 3.866237879131686\n",
      "NO agents available, putting 2 inline on backlog at 3.866237879131686\n",
      "NO agents available, putting 2 inline on backlog at 3.866237879131686\n",
      "NO agents available, putting 2 inline on backlog at 3.866237879131686\n",
      "NO agents available, putting 2 inline on backlog at 3.866237879131686\n",
      "NO agents available, putting 2 inline on backlog at 3.866237879131686\n",
      "Customer 2 atcounter Agent None at 1.2303600523397575\n",
      "Customer 2 atcounter Agent None at 1.2303600523397575\n",
      "Customer 2 atcounter Agent None at 1.2303600523397575\n",
      "Customer 2 atcounter Agent None at 1.2303600523397575\n",
      "Customer 2 atcounter Agent None at 1.2303600523397575\n",
      "Customer 2 atcounter Agent None at 1.2303600523397575\n",
      "Customer 2 atcounter Agent None at 1.2303600523397575\n",
      ">>>Customer 0 leaves, agent (0, 0) free at 5.59881954912139\n",
      ">>>Customer 0 leaves, agent (0, 0) free at 5.59881954912139\n",
      ">>>Customer 0 leaves, agent (0, 0) free at 5.59881954912139\n",
      ">>>Customer 0 leaves, agent (0, 0) free at 5.59881954912139\n",
      ">>>Customer 0 leaves, agent (0, 0) free at 5.59881954912139\n",
      ">>>Customer 0 leaves, agent (0, 0) free at 5.59881954912139\n",
      ">>>Customer 0 leaves, agent (0, 0) free at 5.59881954912139\n",
      "----------------------------------------------\n",
      "----------------------------------------------\n",
      "----------------------------------------------\n",
      "----------------------------------------------\n",
      "----------------------------------------------\n",
      "----------------------------------------------\n",
      "----------------------------------------------\n",
      "Customer 2, arrived in line @ 3.866237879131686.\n",
      "Customer 2, arrived in line @ 3.866237879131686.\n",
      "Customer 2, arrived in line @ 3.866237879131686.\n",
      "Customer 2, arrived in line @ 3.866237879131686.\n",
      "Customer 2, arrived in line @ 3.866237879131686.\n",
      "Customer 2, arrived in line @ 3.866237879131686.\n",
      "Customer 2, arrived in line @ 3.866237879131686.\n",
      "1 agents available to serve.\n",
      "1 agents available to serve.\n",
      "1 agents available to serve.\n",
      "1 agents available to serve.\n",
      "1 agents available to serve.\n",
      "1 agents available to serve.\n",
      "1 agents available to serve.\n",
      "Customer 2 inline to be served by Agent ((0, 0), 5.59881954912139) at 3.866237879131686\n",
      "Customer 2 inline to be served by Agent ((0, 0), 5.59881954912139) at 3.866237879131686\n",
      "Customer 2 inline to be served by Agent ((0, 0), 5.59881954912139) at 3.866237879131686\n",
      "Customer 2 inline to be served by Agent ((0, 0), 5.59881954912139) at 3.866237879131686\n",
      "Customer 2 inline to be served by Agent ((0, 0), 5.59881954912139) at 3.866237879131686\n",
      "Customer 2 inline to be served by Agent ((0, 0), 5.59881954912139) at 3.866237879131686\n",
      "Customer 2 inline to be served by Agent ((0, 0), 5.59881954912139) at 3.866237879131686\n",
      "----------------------------------------------\n",
      "----------------------------------------------\n",
      "----------------------------------------------\n",
      "----------------------------------------------\n",
      "----------------------------------------------\n",
      "----------------------------------------------\n",
      "----------------------------------------------\n",
      "Customer 3, arrived in line @ 7.063762574553813.\n",
      "Customer 3, arrived in line @ 7.063762574553813.\n",
      "Customer 3, arrived in line @ 7.063762574553813.\n",
      "Customer 3, arrived in line @ 7.063762574553813.\n",
      "Customer 3, arrived in line @ 7.063762574553813.\n",
      "Customer 3, arrived in line @ 7.063762574553813.\n",
      "Customer 3, arrived in line @ 7.063762574553813.\n",
      "NO agents available, putting 3 inline on backlog at 7.063762574553813\n",
      "NO agents available, putting 3 inline on backlog at 7.063762574553813\n",
      "NO agents available, putting 3 inline on backlog at 7.063762574553813\n",
      "NO agents available, putting 3 inline on backlog at 7.063762574553813\n",
      "NO agents available, putting 3 inline on backlog at 7.063762574553813\n",
      "NO agents available, putting 3 inline on backlog at 7.063762574553813\n",
      "NO agents available, putting 3 inline on backlog at 7.063762574553813\n",
      "Customer 3 atcounter Agent None at 3.866237879131686\n",
      "Customer 3 atcounter Agent None at 3.866237879131686\n",
      "Customer 3 atcounter Agent None at 3.866237879131686\n",
      "Customer 3 atcounter Agent None at 3.866237879131686\n",
      "Customer 3 atcounter Agent None at 3.866237879131686\n",
      "Customer 3 atcounter Agent None at 3.866237879131686\n",
      "Customer 3 atcounter Agent None at 3.866237879131686\n",
      ">>>Customer 3 leaves, agent None free at 5.486352996060957\n",
      ">>>Customer 3 leaves, agent None free at 5.486352996060957\n",
      ">>>Customer 3 leaves, agent None free at 5.486352996060957\n",
      ">>>Customer 3 leaves, agent None free at 5.486352996060957\n",
      ">>>Customer 3 leaves, agent None free at 5.486352996060957\n",
      ">>>Customer 3 leaves, agent None free at 5.486352996060957\n",
      ">>>Customer 3 leaves, agent None free at 5.486352996060957\n"
     ]
    },
    {
     "ename": "KeyError",
     "evalue": "3",
     "output_type": "error",
     "traceback": [
      "\u001b[0;31m---------------------------------------------------------------------------\u001b[0m",
      "\u001b[0;31mKeyError\u001b[0m                                  Traceback (most recent call last)",
      "\u001b[0;32m<ipython-input-191-910883b8a8df>\u001b[0m in \u001b[0;36m<module>\u001b[0;34m()\u001b[0m\n\u001b[1;32m      1\u001b[0m \u001b[0;31m#logger = logging.getLogger()\u001b[0m\u001b[0;34m\u001b[0m\u001b[0;34m\u001b[0m\u001b[0m\n\u001b[1;32m      2\u001b[0m \u001b[0;31m#logger.addHandler(logging.StreamHandler())\u001b[0m\u001b[0;34m\u001b[0m\u001b[0;34m\u001b[0m\u001b[0m\n\u001b[0;32m----> 3\u001b[0;31m \u001b[0msim\u001b[0m\u001b[0;34m=\u001b[0m\u001b[0msim_main\u001b[0m\u001b[0;34m(\u001b[0m\u001b[0;36m2\u001b[0m\u001b[0;34m,\u001b[0m\u001b[0;36m6\u001b[0m\u001b[0;34m,\u001b[0m \u001b[0mdebug\u001b[0m\u001b[0;34m=\u001b[0m\u001b[0;32mTrue\u001b[0m\u001b[0;34m)\u001b[0m\u001b[0;34m\u001b[0m\u001b[0m\n\u001b[0m",
      "\u001b[0;32m<ipython-input-102-90f04942fdab>\u001b[0m in \u001b[0;36msim_main\u001b[0;34m(num_agents, num_customers, extratime, seed, debug)\u001b[0m\n\u001b[1;32m      3\u001b[0m         \u001b[0mrandom\u001b[0m\u001b[0;34m.\u001b[0m\u001b[0mseed\u001b[0m\u001b[0;34m(\u001b[0m\u001b[0mseed\u001b[0m\u001b[0;34m)\u001b[0m\u001b[0;34m\u001b[0m\u001b[0m\n\u001b[1;32m      4\u001b[0m     \u001b[0msim\u001b[0m \u001b[0;34m=\u001b[0m \u001b[0mSimulator\u001b[0m\u001b[0;34m(\u001b[0m\u001b[0mnum_agents\u001b[0m\u001b[0;34m,\u001b[0m \u001b[0mnum_customers\u001b[0m\u001b[0;34m,\u001b[0m \u001b[0mDEBUG\u001b[0m\u001b[0;34m=\u001b[0m\u001b[0mdebug\u001b[0m\u001b[0;34m)\u001b[0m\u001b[0;34m\u001b[0m\u001b[0m\n\u001b[0;32m----> 5\u001b[0;31m     \u001b[0msim\u001b[0m\u001b[0;34m.\u001b[0m\u001b[0mrun\u001b[0m\u001b[0;34m(\u001b[0m\u001b[0msim\u001b[0m\u001b[0;34m.\u001b[0m\u001b[0mmax_time_when_came\u001b[0m\u001b[0;34m+\u001b[0m\u001b[0mextratime\u001b[0m\u001b[0;34m)\u001b[0m\u001b[0;34m\u001b[0m\u001b[0m\n\u001b[0m\u001b[1;32m      6\u001b[0m     \u001b[0;32mreturn\u001b[0m \u001b[0msim\u001b[0m\u001b[0;34m\u001b[0m\u001b[0m\n",
      "\u001b[0;32m<ipython-input-190-d91b16a265c2>\u001b[0m in \u001b[0;36mrun\u001b[0;34m(self, end_time)\u001b[0m\n\u001b[1;32m     72\u001b[0m             \u001b[0msim_time\u001b[0m\u001b[0;34m,\u001b[0m \u001b[0mcid\u001b[0m\u001b[0;34m,\u001b[0m \u001b[0maction\u001b[0m\u001b[0;34m,\u001b[0m \u001b[0magent\u001b[0m \u001b[0;34m=\u001b[0m \u001b[0mcurrent_event\u001b[0m\u001b[0;34m\u001b[0m\u001b[0m\n\u001b[1;32m     73\u001b[0m             \u001b[0;31m#get the current customer process\u001b[0m\u001b[0;34m\u001b[0m\u001b[0;34m\u001b[0m\u001b[0m\n\u001b[0;32m---> 74\u001b[0;31m             \u001b[0mcproc\u001b[0m \u001b[0;34m=\u001b[0m \u001b[0mself\u001b[0m\u001b[0;34m.\u001b[0m\u001b[0mcustomers\u001b[0m\u001b[0;34m[\u001b[0m\u001b[0mcid\u001b[0m\u001b[0;34m]\u001b[0m\u001b[0;34m\u001b[0m\u001b[0m\n\u001b[0m\u001b[1;32m     75\u001b[0m \u001b[0;34m\u001b[0m\u001b[0m\n\u001b[1;32m     76\u001b[0m             \u001b[0;32mif\u001b[0m \u001b[0maction\u001b[0m\u001b[0;34m==\u001b[0m\u001b[0;34m'leaves'\u001b[0m\u001b[0;34m:\u001b[0m\u001b[0;34m\u001b[0m\u001b[0m\n",
      "\u001b[0;31mKeyError\u001b[0m: 3"
     ]
    }
   ],
   "source": [
    "#logger = logging.getLogger()\n",
    "#logger.addHandler(logging.StreamHandler())\n",
    "sim=sim_main(2,6, debug=True)\n"
   ]
  },
  {
   "cell_type": "markdown",
   "metadata": {},
   "source": [
    "Now lets try it with some larger numbers."
   ]
  },
  {
   "cell_type": "code",
   "execution_count": 179,
   "metadata": {
    "collapsed": false
   },
   "outputs": [
    {
     "data": {
      "image/png": "[encoded data removed]",
      "text/plain": [
       "<matplotlib.figure.Figure at 0x11040e0f0>"
      ]
     },
     "metadata": {},
     "output_type": "display_data"
    }
   ],
   "source": [
    "%matplotlib inline\n",
    "import matplotlib.pyplot as plt\n",
    "sim=sim_main(3,100)\n",
    "plt.hist(sim.compute_ptimes(), bins=20);"
   ]
  },
  {
   "cell_type": "code",
   "execution_count": 180,
   "metadata": {
    "collapsed": false
   },
   "outputs": [
    {
     "data": {
      "image/png": "[encoded data removed]",
      "text/plain": [
       "<matplotlib.figure.Figure at 0x11071a400>"
      ]
     },
     "metadata": {},
     "output_type": "display_data"
    }
   ],
   "source": [
    "sim2=sim_main(4,100)\n",
    "plt.hist(sim2.compute_ptimes(), bins=20);"
   ]
  },
  {
   "cell_type": "markdown",
   "metadata": {},
   "source": [
    "extra time needed below as with 400 passengers a long time is taken to process."
   ]
  },
  {
   "cell_type": "code",
   "execution_count": 181,
   "metadata": {
    "collapsed": false
   },
   "outputs": [
    {
     "data": {
      "image/png": "[encoded data removed]",
      "text/plain": [
       "<matplotlib.figure.Figure at 0x10eb52320>"
      ]
     },
     "metadata": {},
     "output_type": "display_data"
    }
   ],
   "source": [
    "sim2=sim_main(2,400, extratime=100)\n",
    "plt.hist(sim2.compute_ptimes(), bins=20);"
   ]
  },
  {
   "cell_type": "markdown",
   "metadata": {},
   "source": [
    "For a proper statistical analysis, you would want to draw this multiple times and look at the distribution of the averages as well. But you should know what this distribution is :-)."
   ]
  }
 ],
 "metadata": {
  "anaconda-cloud": {},
  "kernelspec": {
   "display_name": "Python [py35]",
   "language": "python",
   "name": "Python [py35]"
  },
  "language_info": {
   "codemirror_mode": {
    "name": "ipython",
    "version": 3
   },
   "file_extension": ".py",
   "mimetype": "text/x-python",
   "name": "python",
   "nbconvert_exporter": "python",
   "pygments_lexer": "ipython3",
   "version": "3.5.2"
  }
 },
 "nbformat": 4,
 "nbformat_minor": 0
}
